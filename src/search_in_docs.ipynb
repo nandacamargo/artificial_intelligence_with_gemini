{
 "cells": [
  {
   "cell_type": "markdown",
   "id": "741ba39a-fa73-43d0-bc01-4e98b14f7674",
   "metadata": {},
   "source": [
    "### Fairy Tales using Gemini AI"
   ]
  },
  {
   "cell_type": "markdown",
   "id": "5ac0a291-4931-41e5-8154-207561274608",
   "metadata": {},
   "source": [
    "The idea of this code is to make it simpler to make questions about some fairy tales (they need to be saved under `fairy_tales` folder), to summarize them and make the language easier to understand, for example.\n",
    "You can even ask the question in another language, such as portuguese."
   ]
  },
  {
   "cell_type": "markdown",
   "id": "e59a2005-ac7d-464e-bf8c-1764e860cbc2",
   "metadata": {},
   "source": [
    "#### Get Key and pass it to genai "
   ]
  },
  {
   "cell_type": "code",
   "execution_count": null,
   "id": "ba78f95e-a6ed-4f92-83cf-de23d92d1616",
   "metadata": {},
   "outputs": [],
   "source": [
    "import os\n",
    "import numpy as np\n",
    "import pandas as pd\n",
    "from dotenv import load_dotenv, dotenv_values \n",
    "import google.generativeai as genai\n",
    "\n",
    "load_dotenv() \n",
    "api_key = os.getenv(\"API_SECRET_KEY\")\n",
    "genai.configure(api_key=api_key)"
   ]
  },
  {
   "cell_type": "markdown",
   "id": "c9256118",
   "metadata": {},
   "source": [
    "#### Get the documents"
   ]
  },
  {
   "cell_type": "code",
   "execution_count": 2,
   "id": "77d0fd08",
   "metadata": {},
   "outputs": [],
   "source": [
    "file_names = os.listdir(\"fairy_tales\")\n",
    "tales = {}\n",
    "documents = []\n",
    "for file in file_names:\n",
    "    with open(f\"fairy_tales/{file}\", \"r\") as fname:\n",
    "        tale_name = file.split(\".\")[0]\n",
    "        content = fname.readlines()\n",
    "    documents.append(\n",
    "        {\n",
    "            \"title\": tale_name,\n",
    "            \"text\": \"\".join(content)\n",
    "        }\n",
    "    )"
   ]
  },
  {
   "cell_type": "code",
   "execution_count": null,
   "id": "acc3fa7a",
   "metadata": {},
   "outputs": [],
   "source": [
    "# Check the documents\n",
    "documents"
   ]
  },
  {
   "cell_type": "markdown",
   "id": "ea085133",
   "metadata": {},
   "source": [
    "#### Generate the Dataframe"
   ]
  },
  {
   "cell_type": "code",
   "execution_count": 4,
   "id": "d5f4e484",
   "metadata": {},
   "outputs": [
    {
     "data": {
      "text/html": [
       "<div>\n",
       "<style scoped>\n",
       "    .dataframe tbody tr th:only-of-type {\n",
       "        vertical-align: middle;\n",
       "    }\n",
       "\n",
       "    .dataframe tbody tr th {\n",
       "        vertical-align: top;\n",
       "    }\n",
       "\n",
       "    .dataframe thead th {\n",
       "        text-align: right;\n",
       "    }\n",
       "</style>\n",
       "<table border=\"1\" class=\"dataframe\">\n",
       "  <thead>\n",
       "    <tr style=\"text-align: right;\">\n",
       "      <th></th>\n",
       "      <th>title</th>\n",
       "      <th>text</th>\n",
       "    </tr>\n",
       "  </thead>\n",
       "  <tbody>\n",
       "    <tr>\n",
       "      <th>0</th>\n",
       "      <td>drop_of_water</td>\n",
       "      <td>Of course you know what is meant by a magnifyi...</td>\n",
       "    </tr>\n",
       "    <tr>\n",
       "      <th>1</th>\n",
       "      <td>butterfly</td>\n",
       "      <td>There was once a butterfly who wished for a br...</td>\n",
       "    </tr>\n",
       "    <tr>\n",
       "      <th>2</th>\n",
       "      <td>loveliest_rose_in_the_world</td>\n",
       "      <td>There lived once a great queen, in whose garde...</td>\n",
       "    </tr>\n",
       "  </tbody>\n",
       "</table>\n",
       "</div>"
      ],
      "text/plain": [
       "                         title  \\\n",
       "0                drop_of_water   \n",
       "1                    butterfly   \n",
       "2  loveliest_rose_in_the_world   \n",
       "\n",
       "                                                text  \n",
       "0  Of course you know what is meant by a magnifyi...  \n",
       "1  There was once a butterfly who wished for a br...  \n",
       "2  There lived once a great queen, in whose garde...  "
      ]
     },
     "execution_count": 4,
     "metadata": {},
     "output_type": "execute_result"
    }
   ],
   "source": [
    "df = pd.DataFrame(documents)\n",
    "#df = df.set_index(\"title\")[\"text\"].str.split(\"\\n\", expand=True).stack()\n",
    "df"
   ]
  },
  {
   "cell_type": "markdown",
   "id": "0034ce94",
   "metadata": {},
   "source": [
    "#### Generate the embeddings"
   ]
  },
  {
   "cell_type": "code",
   "execution_count": 5,
   "id": "25ae5c72",
   "metadata": {},
   "outputs": [],
   "source": [
    "model = \"models/embedding-001\"\n",
    "task_type = \"RETRIEVAL_DOCUMENT\"\n",
    "def gen_embed_content(title, text):\n",
    "  return genai.embed_content(model=model,\n",
    "                            content=text,\n",
    "                            title=title,\n",
    "                            task_type=task_type)[\"embedding\"]"
   ]
  },
  {
   "cell_type": "code",
   "execution_count": 6,
   "id": "335e86ab",
   "metadata": {},
   "outputs": [],
   "source": [
    "df[\"embeddings\"] = df.apply(lambda row: gen_embed_content(row[\"title\"], row[\"text\"]), \n",
    "                            axis=1)"
   ]
  },
  {
   "cell_type": "code",
   "execution_count": 7,
   "id": "cb9fa1c2-a5ec-4c28-b9d2-8154a34398a3",
   "metadata": {},
   "outputs": [
    {
     "data": {
      "text/html": [
       "<div>\n",
       "<style scoped>\n",
       "    .dataframe tbody tr th:only-of-type {\n",
       "        vertical-align: middle;\n",
       "    }\n",
       "\n",
       "    .dataframe tbody tr th {\n",
       "        vertical-align: top;\n",
       "    }\n",
       "\n",
       "    .dataframe thead th {\n",
       "        text-align: right;\n",
       "    }\n",
       "</style>\n",
       "<table border=\"1\" class=\"dataframe\">\n",
       "  <thead>\n",
       "    <tr style=\"text-align: right;\">\n",
       "      <th></th>\n",
       "      <th>title</th>\n",
       "      <th>text</th>\n",
       "      <th>embeddings</th>\n",
       "    </tr>\n",
       "  </thead>\n",
       "  <tbody>\n",
       "    <tr>\n",
       "      <th>0</th>\n",
       "      <td>drop_of_water</td>\n",
       "      <td>Of course you know what is meant by a magnifyi...</td>\n",
       "      <td>[0.0030424898, -0.009695117, -0.009657833, -0....</td>\n",
       "    </tr>\n",
       "    <tr>\n",
       "      <th>1</th>\n",
       "      <td>butterfly</td>\n",
       "      <td>There was once a butterfly who wished for a br...</td>\n",
       "      <td>[0.008295853, -0.055345494, -0.04492399, -0.03...</td>\n",
       "    </tr>\n",
       "    <tr>\n",
       "      <th>2</th>\n",
       "      <td>loveliest_rose_in_the_world</td>\n",
       "      <td>There lived once a great queen, in whose garde...</td>\n",
       "      <td>[0.027745383, 0.0076825176, -0.053658728, -0.0...</td>\n",
       "    </tr>\n",
       "  </tbody>\n",
       "</table>\n",
       "</div>"
      ],
      "text/plain": [
       "                         title  \\\n",
       "0                drop_of_water   \n",
       "1                    butterfly   \n",
       "2  loveliest_rose_in_the_world   \n",
       "\n",
       "                                                text  \\\n",
       "0  Of course you know what is meant by a magnifyi...   \n",
       "1  There was once a butterfly who wished for a br...   \n",
       "2  There lived once a great queen, in whose garde...   \n",
       "\n",
       "                                          embeddings  \n",
       "0  [0.0030424898, -0.009695117, -0.009657833, -0....  \n",
       "1  [0.008295853, -0.055345494, -0.04492399, -0.03...  \n",
       "2  [0.027745383, 0.0076825176, -0.053658728, -0.0...  "
      ]
     },
     "execution_count": 7,
     "metadata": {},
     "output_type": "execute_result"
    }
   ],
   "source": [
    "df"
   ]
  },
  {
   "cell_type": "markdown",
   "id": "814d5afe",
   "metadata": {},
   "source": [
    "#### Generate query embedding and search in the docs"
   ]
  },
  {
   "cell_type": "code",
   "execution_count": 8,
   "id": "035e38bf",
   "metadata": {},
   "outputs": [],
   "source": [
    "def gen_embed_and_search(model, dataframe, query):\n",
    "    query_embedding = genai.embed_content(model=model,\n",
    "                                 content=query,\n",
    "                                 task_type=\"RETRIEVAL_QUERY\")[\"embedding\"]\n",
    "\n",
    "    dot_products = np.dot(np.stack(df[\"embeddings\"]), query_embedding)\n",
    "\n",
    "    return df.iloc[np.argmax(dot_products)][\"text\"]"
   ]
  },
  {
   "cell_type": "markdown",
   "id": "f621f5f4-73b9-41a7-8395-d34d79855c2e",
   "metadata": {},
   "source": [
    "#### Config the Generative Model to generate content"
   ]
  },
  {
   "cell_type": "code",
   "execution_count": 9,
   "id": "4a296f1d-8642-42e3-a4d9-106fa6d627f8",
   "metadata": {},
   "outputs": [],
   "source": [
    "generation_config = {\n",
    "  \"temperature\": 0,\n",
    "  \"candidate_count\": 1\n",
    "}"
   ]
  },
  {
   "cell_type": "code",
   "execution_count": 10,
   "id": "273b8677-f34f-4d75-ae05-9518377cd4be",
   "metadata": {},
   "outputs": [],
   "source": [
    "gemini_pro_model = genai.GenerativeModel(\"gemini-1.0-pro\",\n",
    "                                generation_config=generation_config)"
   ]
  },
  {
   "cell_type": "markdown",
   "id": "79a0fc1f-397b-4b23-9271-35821a1657c5",
   "metadata": {},
   "source": [
    "### Make your queries"
   ]
  },
  {
   "cell_type": "code",
   "execution_count": 11,
   "id": "01d04f8b-75dd-4077-8765-2f1f8704b736",
   "metadata": {},
   "outputs": [
    {
     "name": "stdout",
     "output_type": "stream",
     "text": [
      "Choose the final word for your queries\n"
     ]
    },
    {
     "name": "stdout",
     "output_type": "stream",
     "text": [
      " end\n"
     ]
    }
   ],
   "source": [
    "print(\"Choose the final word for your queries\")\n",
    "final_word = input()"
   ]
  },
  {
   "cell_type": "code",
   "execution_count": 15,
   "id": "089a0f13-1333-4e08-b38e-be3e3f2e6f5f",
   "metadata": {},
   "outputs": [
    {
     "name": "stdout",
     "output_type": "stream",
     "text": [
      "======================================================\n"
     ]
    },
    {
     "name": "stdout",
     "output_type": "stream",
     "text": [
      ">>Waiting for your query about Fairy Tails:  What is the source of the texts?\n"
     ]
    },
    {
     "name": "stdout",
     "output_type": "stream",
     "text": [
      "Source of the text: Project Gutenberg\n",
      "======================================================\n"
     ]
    },
    {
     "name": "stdout",
     "output_type": "stream",
     "text": [
      ">>Waiting for your query about Fairy Tails:  O que a borboleta queria?\n"
     ]
    },
    {
     "name": "stdout",
     "output_type": "stream",
     "text": [
      "O que a borboleta queria?: A borboleta queria uma noiva bonita entre as flores.\n",
      "======================================================\n"
     ]
    },
    {
     "name": "stdout",
     "output_type": "stream",
     "text": [
      ">>Waiting for your query about Fairy Tails:  Summarize the drop of water story for a 5-year-old child.\n"
     ]
    },
    {
     "name": "stdout",
     "output_type": "stream",
     "text": [
      "Once upon a time, there was a man named Kribble-Krabble who loved to look at things through a special glass that made them look bigger. One day, he looked at a drop of water from a puddle and saw lots of tiny creatures swimming around.\n",
      "\n",
      "But these creatures were not friendly! They were fighting and biting each other. Kribble-Krabble thought it was terrible and wanted them to be peaceful.\n",
      "\n",
      "So, he used magic to make the creatures pink so he could see them better. He showed them to another magician, who didn't know what they were.\n",
      "\n",
      "The other magician looked through the glass and saw a big city with people running around without clothes. He was shocked to see how they were fighting and hurting each other.\n",
      "\n",
      "\"That's a drop of puddle water!\" Kribble-Krabble said. \"It shows us how people in big cities can be mean and unkind.\"\n",
      "======================================================\n"
     ]
    },
    {
     "name": "stdout",
     "output_type": "stream",
     "text": [
      ">>Waiting for your query about Fairy Tails:  What could save the queen?\n"
     ]
    },
    {
     "name": "stdout",
     "output_type": "stream",
     "text": [
      "**What could save the queen?**\n",
      "\n",
      "The queen was very sick, and the doctors said she would die. But one of the wisest doctors said there was one thing that could save her: the loveliest rose in the world, one that showed the purest and brightest love.\n",
      "\n",
      "Many people brought roses from all over the world, but none of them were the right one. The rose had to be from the garden of love, and it had to show the highest and purest love.\n",
      "\n",
      "Finally, a little child came into the room and read from a book about the love of Jesus Christ. As he read, a roseate hue spread over the queen's cheeks, and her eyes became so enlightened and clear, that she saw from the leaves of the book a lovely rose spring forth, a type of Him who shed His blood on the cross.\n",
      "\n",
      "\"I see it,\" she said. \"He who beholds this, the loveliest rose on earth, shall never die.\"\n",
      "======================================================\n"
     ]
    },
    {
     "name": "stdout",
     "output_type": "stream",
     "text": [
      ">>Waiting for your query about Fairy Tails:  end\n"
     ]
    }
   ],
   "source": [
    "query = \"\"\n",
    "prompt = \"Get the text and improve the answer to the question: {question}:{answer}. Your response should be based only on the text given on the answer. You can adapt the language and make it simpler. The final response has to follow the same language used in the question.\"\n",
    "while query != final_word:\n",
    "    print(\"======================================================\")\n",
    "    query = input(\">>Waiting for your query about Fairy Tails: \")\n",
    "    if query == final_word:\n",
    "        continue\n",
    "    answer = gen_embed_and_search(model, df, query)\n",
    "    prepared_prompt = prompt.format(\n",
    "        question = query,\n",
    "        answer = answer\n",
    "    )\n",
    "    response = gemini_pro_model.generate_content(prepared_prompt)\n",
    "    print(response.text)"
   ]
  },
  {
   "cell_type": "code",
   "execution_count": null,
   "id": "ca3bd49a-c50a-4915-bdde-0a41d48ec65a",
   "metadata": {},
   "outputs": [],
   "source": []
  }
 ],
 "metadata": {
  "kernelspec": {
   "display_name": "Python 3 (ipykernel)",
   "language": "python",
   "name": "python3"
  },
  "language_info": {
   "codemirror_mode": {
    "name": "ipython",
    "version": 3
   },
   "file_extension": ".py",
   "mimetype": "text/x-python",
   "name": "python",
   "nbconvert_exporter": "python",
   "pygments_lexer": "ipython3",
   "version": "3.11.6"
  }
 },
 "nbformat": 4,
 "nbformat_minor": 5
}
